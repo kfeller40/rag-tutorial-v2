{
 "cells": [
  {
   "cell_type": "code",
   "execution_count": 22,
   "metadata": {},
   "outputs": [
    {
     "name": "stdout",
     "output_type": "stream",
     "text": [
      "Processing page 1\n",
      "Processing page 2\n"
     ]
    }
   ],
   "source": [
    "import pdfplumber\n",
    "import pandas as pd\n",
    "\n",
    "def extract_tables_from_pdf(pdf_path):\n",
    "    tables = []\n",
    "    with pdfplumber.open(pdf_path) as pdf:\n",
    "        for page_num, page in enumerate(pdf.pages):\n",
    "            print(f\"Processing page {page_num + 1}\")\n",
    "            page_tables = page.extract_tables()\n",
    "            for table in page_tables:\n",
    "                tables.append(table)\n",
    "    return tables\n",
    "\n",
    "def save_tables_to_csv(tables, csv_path):\n",
    "    for i, table in enumerate(tables):\n",
    "        df = pd.DataFrame(table[1:], columns=table[0])\n",
    "        df.to_csv(f\"{csv_path}_table_{i + 1}.csv\", index=False)\n",
    "        print(f\"Table {i + 1} saved to {csv_path}_table_{i + 1}.csv\")\n",
    "\n",
    "def main():\n",
    "    pdf_path = \"portfolio_holdings.pdf\"\n",
    "    csv_path = \"portfolio_holdings\"\n",
    "    tables = extract_tables_from_pdf(pdf_path)\n",
    "    save_tables_to_csv(tables, csv_path)\n",
    "\n",
    "main()"
   ]
  },
  {
   "cell_type": "code",
   "execution_count": 1,
   "metadata": {},
   "outputs": [
    {
     "data": {
      "text/plain": [
       "'C:\\\\Program Files\\\\gs\\\\gs10.04.0\\\\bin\\\\gsdll64.dll'"
      ]
     },
     "execution_count": 1,
     "metadata": {},
     "output_type": "execute_result"
    }
   ],
   "source": [
    "import ctypes\n",
    "from ctypes.util import find_library\n",
    "find_library(\"\".join((\"gsdll\", str(ctypes.sizeof(ctypes.c_voidp) * 8), \".dll\")))"
   ]
  },
  {
   "cell_type": "code",
   "execution_count": 4,
   "metadata": {},
   "outputs": [],
   "source": [
    "import camelot\n",
    "import os"
   ]
  },
  {
   "cell_type": "code",
   "execution_count": 10,
   "metadata": {},
   "outputs": [
    {
     "ename": "SyntaxError",
     "evalue": "(unicode error) 'unicodeescape' codec can't decode bytes in position 2-3: truncated \\UXXXXXXXX escape (562693112.py, line 13)",
     "output_type": "error",
     "traceback": [
      "\u001b[1;36m  Cell \u001b[1;32mIn[10], line 13\u001b[1;36m\u001b[0m\n\u001b[1;33m    pdf_path = r(\"C:\\Users\\kefeller\\rag_tutorial\\rag-tutorial-v2\\data\\portfolio_holdings.pdf\")\u001b[0m\n\u001b[1;37m                                                                                             ^\u001b[0m\n\u001b[1;31mSyntaxError\u001b[0m\u001b[1;31m:\u001b[0m (unicode error) 'unicodeescape' codec can't decode bytes in position 2-3: truncated \\UXXXXXXXX escape\n"
     ]
    }
   ],
   "source": [
    "pdf_path = r\"C:\\Users\\kefeller\\rag_tutorial\\rag-tutorial-v2\\data\\portfolio_holdings.pdf\"\n",
    "tables = camelot.read_pdf(pdf_path, pages='all', flavor='stream')\n",
    "\n",
    "# Check if any tables were found\n",
    "if not tables:\n",
    "    print(\"No tables found in the PDF.\")\n",
    "    return\n",
    "\n",
    "\n",
    "# def main():\n",
    "# Use an absolute path to the PDF file\n",
    "\n",
    "data = extract_tables_from_pdf(pdf_path)\n",
    "print(data)"
   ]
  },
  {
   "cell_type": "code",
   "execution_count": null,
   "metadata": {},
   "outputs": [],
   "source": [
    "table"
   ]
  },
  {
   "cell_type": "code",
   "execution_count": null,
   "metadata": {},
   "outputs": [],
   "source": []
  },
  {
   "cell_type": "code",
   "execution_count": null,
   "metadata": {},
   "outputs": [],
   "source": []
  }
 ],
 "metadata": {
  "kernelspec": {
   "display_name": "base",
   "language": "python",
   "name": "python3"
  },
  "language_info": {
   "codemirror_mode": {
    "name": "ipython",
    "version": 3
   },
   "file_extension": ".py",
   "mimetype": "text/x-python",
   "name": "python",
   "nbconvert_exporter": "python",
   "pygments_lexer": "ipython3",
   "version": "3.10.14"
  }
 },
 "nbformat": 4,
 "nbformat_minor": 2
}
